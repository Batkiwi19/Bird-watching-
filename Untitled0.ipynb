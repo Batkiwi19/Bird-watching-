{
  "nbformat": 4,
  "nbformat_minor": 0,
  "metadata": {
    "colab": {
      "provenance": [],
      "authorship_tag": "ABX9TyPWkAufWBH3ZWUANAOEXGw4",
      "include_colab_link": true
    },
    "kernelspec": {
      "name": "python3",
      "display_name": "Python 3"
    },
    "language_info": {
      "name": "python"
    }
  },
  "cells": [
    {
      "cell_type": "markdown",
      "metadata": {
        "id": "view-in-github",
        "colab_type": "text"
      },
      "source": [
        "<a href=\"https://colab.research.google.com/github/Batkiwi19/Bird-watching-/blob/main/Untitled0.ipynb\" target=\"_parent\"><img src=\"https://colab.research.google.com/assets/colab-badge.svg\" alt=\"Open In Colab\"/></a>"
      ]
    },
    {
      "cell_type": "code",
      "source": [
        "import pandas as pd\n",
        "df=pd.read_csv('AADR.csv')\n",
        "print(df)\n",
        "df['Date']=pd.to_datetime(df['Date'])\n",
        "mask=df['Date'].between('2015-02-01','2020-01-04')\n",
        "df[~mask].to_csv('out1.csv', index=False)\n",
        "df[~mask].to_csv('out2.csv', index=False)\n",
        "print(mask)\n",
        "maxClm=df['Open'].max()\n",
        "print(maxClm)\n",
        "minClm=df['Open'].min()\n",
        "print(minClm)\n",
        "df['Date'] = pd.to_datetime(df['Date'])\n",
        "\n",
        "res = df[~(df['Date'] < '2015-1-2')]\n",
        "\n",
        "print(res)\n",
        "\n"
      ],
      "metadata": {
        "colab": {
          "base_uri": "https://localhost:8080/"
        },
        "id": "zIfK6FRr0aL5",
        "outputId": "937b2631-40cb-4895-cb54-10595f14d4fb"
      },
      "execution_count": 19,
      "outputs": [
        {
          "output_type": "stream",
          "name": "stdout",
          "text": [
            "            Date       Open       High        Low      Close  Adj Close  \\\n",
            "0     2010-07-21  25.100000  25.100000  24.700001  24.700001  23.343714   \n",
            "1     2010-07-22  25.420000  25.420000  25.129999  25.260000  23.872967   \n",
            "2     2010-07-23  25.540001  25.540001  25.080000  25.280001  23.891865   \n",
            "3     2010-07-26  25.400000  25.400000  25.219999  25.370001  23.976921   \n",
            "4     2010-07-27  25.250000  25.290001  25.200001  25.290001  23.901318   \n",
            "...          ...        ...        ...        ...        ...        ...   \n",
            "2437  2020-03-26  41.200001  42.290001  41.200001  42.090000  42.090000   \n",
            "2438  2020-03-27  40.360001  40.500000  39.900002  40.419998  40.419998   \n",
            "2439  2020-03-30  40.549999  40.709999  39.970001  40.709999  40.709999   \n",
            "2440  2020-03-31  40.500000  41.230000  40.250000  40.340000  40.340000   \n",
            "2441  2020-04-01  39.169998  39.169998  38.599998  39.029999  39.029999   \n",
            "\n",
            "      Volume  \n",
            "0      42000  \n",
            "1      17500  \n",
            "2       8600  \n",
            "3      18900  \n",
            "4       8200  \n",
            "...      ...  \n",
            "2437   19600  \n",
            "2438    6900  \n",
            "2439    3000  \n",
            "2440    4500  \n",
            "2441    5700  \n",
            "\n",
            "[2442 rows x 7 columns]\n",
            "0       False\n",
            "1       False\n",
            "2       False\n",
            "3       False\n",
            "4       False\n",
            "        ...  \n",
            "2437    False\n",
            "2438    False\n",
            "2439    False\n",
            "2440    False\n",
            "2441    False\n",
            "Name: Date, Length: 2442, dtype: bool\n",
            "63.18999862670898\n",
            "24.690000534057617\n",
            "           Date       Open       High        Low      Close  Adj Close  Volume\n",
            "1121 2015-01-02  37.250000  37.250000  36.639999  36.639999  35.399769    2000\n",
            "1122 2015-01-05  36.130001  36.439999  36.130001  36.189999  34.965000     600\n",
            "1123 2015-01-06  35.570000  35.889999  35.560001  35.889999  34.675159     600\n",
            "1124 2015-01-07  35.889999  35.889999  35.889999  35.889999  34.675159       0\n",
            "1125 2015-01-08  36.730000  36.799999  36.450001  36.450001  35.216206    1100\n",
            "...         ...        ...        ...        ...        ...        ...     ...\n",
            "2437 2020-03-26  41.200001  42.290001  41.200001  42.090000  42.090000   19600\n",
            "2438 2020-03-27  40.360001  40.500000  39.900002  40.419998  40.419998    6900\n",
            "2439 2020-03-30  40.549999  40.709999  39.970001  40.709999  40.709999    3000\n",
            "2440 2020-03-31  40.500000  41.230000  40.250000  40.340000  40.340000    4500\n",
            "2441 2020-04-01  39.169998  39.169998  38.599998  39.029999  39.029999    5700\n",
            "\n",
            "[1321 rows x 7 columns]\n"
          ]
        }
      ]
    },
    {
      "cell_type": "markdown",
      "source": [],
      "metadata": {
        "id": "uJdpov1PiQqk"
      }
    },
    {
      "cell_type": "markdown",
      "source": [],
      "metadata": {
        "id": "VQz9mrCviRN_"
      }
    },
    {
      "cell_type": "code",
      "source": [],
      "metadata": {
        "id": "gP2JrLzriRW0"
      },
      "execution_count": null,
      "outputs": []
    },
    {
      "cell_type": "code",
      "source": [
        "from google.colab import drive\n",
        "drive.mount('/content/drive')"
      ],
      "metadata": {
        "id": "CuzqwWKPf2ZE"
      },
      "execution_count": null,
      "outputs": []
    }
  ]
}